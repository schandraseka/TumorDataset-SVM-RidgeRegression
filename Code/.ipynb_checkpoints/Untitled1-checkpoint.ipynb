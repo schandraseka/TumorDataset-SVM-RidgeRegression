{
 "cells": [
  {
   "cell_type": "code",
   "execution_count": 4,
   "metadata": {},
   "outputs": [
    {
     "name": "stdout",
     "output_type": "stream",
     "text": [
      "Reading credit card data ...\n",
      "Train= (511, 8)\n",
      "Test= (256, 8)\n"
     ]
    }
   ],
   "source": [
    "import numpy as np\n",
    "import kaggle\n",
    "from sklearn.metrics import accuracy_score\n",
    "from sklearn.grid_search import GridSearchCV\n",
    "from sklearn.model_selection import cross_val_score, KFold\n",
    "from operator import itemgetter\n",
    "from itertools import product\n",
    "from sklearn.kernel_ridge import KernelRidge\n",
    "\n",
    "# Read in train and test synthetic data\n",
    "def read_synthetic_data():\n",
    "\tprint('Reading synthetic data ...')\n",
    "\ttrain_x = np.loadtxt('../../Data/Synthetic/data_train.txt', delimiter = ',', dtype=float)\n",
    "\ttrain_y = np.loadtxt('../../Data/Synthetic/label_train.txt', delimiter = ',', dtype=float)\n",
    "\ttest_x = np.loadtxt('../../Data/Synthetic/data_test.txt', delimiter = ',', dtype=float)\n",
    "\ttest_y = np.loadtxt('../../Data/Synthetic/label_test.txt', delimiter = ',', dtype=float)\n",
    "\n",
    "\treturn (train_x, train_y, test_x, test_y)\n",
    "\n",
    "# Read in train and test credit card data\n",
    "def read_creditcard_data():\n",
    "\tprint('Reading credit card data ...')\n",
    "\ttrain_x = np.loadtxt('../../Data/CreditCard/data_train.txt', delimiter = ',', dtype=float)\n",
    "\ttrain_y = np.loadtxt('../../Data/CreditCard/label_train.txt', delimiter = ',', dtype=float)\n",
    "\ttest_x = np.loadtxt('../../Data/CreditCard/data_test.txt', delimiter = ',', dtype=float)\n",
    "\n",
    "\treturn (train_x, train_y, test_x)\n",
    "\n",
    "# Read in train and test tumor data\n",
    "def read_tumor_data():\n",
    "\tprint('Reading tumor data ...')\n",
    "\ttrain_x = np.loadtxt('../../Data/Tumor/data_train.txt', delimiter = ',', dtype=float)\n",
    "\ttrain_y = np.loadtxt('../../Data/Tumor/label_train.txt', delimiter = ',', dtype=float)\n",
    "\ttest_x = np.loadtxt('../../Data/Tumor/data_test.txt', delimiter = ',', dtype=float)\n",
    "\n",
    "\treturn (train_x, train_y, test_x)\n",
    "\n",
    "def parse_param_grid(param_grid):\n",
    "    for p in param_grid:\n",
    "            items = sorted(p.items())\n",
    "            keys, values = zip(*items)\n",
    "            for v in product(*values):\n",
    "                params = dict(zip(keys, v))\n",
    "                yield params\n",
    "\n",
    "\n",
    "def gridsearch(X, y, model, paramgridIterator, cv=5):\n",
    "    result = []\n",
    "    maxacc = 0\n",
    "    bestparam = {}\n",
    "    accuracies = []\n",
    "    for param in paramgridIterator:\n",
    "        model = model.set_params(**param)\n",
    "        accuracies = cross_val_score(model,X,y,scoring='accuracy',cv=5)\n",
    "        acc = np.mean(accuracies)\n",
    "        if abs(acc-maxacc)>0:\n",
    "            maxacc = acc\n",
    "            bestparam = param\n",
    "        print(str(param)+\"Scores=\"+str(acc))\n",
    "        print('Error', 1-acc)\n",
    "    return bestparam,maxacc\n",
    "\n",
    "\n",
    "# Compute MSE\n",
    "def compute_MSE(y, y_hat):\n",
    "\t# mean squared error\n",
    "\treturn np.mean(np.power(y - y_hat, 2))\n",
    "\n",
    "train_x, train_y, test_x = read_creditcard_data()\n",
    "print('Train=', train_x.shape)\n",
    "print('Test=', test_x.shape)"
   ]
  },
  {
   "cell_type": "code",
   "execution_count": null,
   "metadata": {
    "collapsed": true
   },
   "outputs": [],
   "source": [
    "param_grid = {'alpha' : [\n",
    "]}\n",
    "paramgridIterator = parse_param_grid([param_grid])\n",
    "model = KernelRidge()\n",
    "bestparam = gridsearch(train_x, train_y, model, paramgridIterator)[0]\n",
    "print('Best parameters',bestparam)\n",
    "bestmodel = KernelRidge(max_depth = bestparam['max_depth'])\n",
    "test_y = bestmodel.predict(test_x)\n",
    "file_name = '../Predictions/KernelCredit.csv'\n",
    "# Writing output in Kaggle format    \n",
    "print('Writing output to ', file_name)\n",
    "kaggle.kaggleize(test_y, file_name)"
   ]
  }
 ],
 "metadata": {
  "kernelspec": {
   "display_name": "Python 3",
   "language": "python",
   "name": "python3"
  },
  "language_info": {
   "codemirror_mode": {
    "name": "ipython",
    "version": 3
   },
   "file_extension": ".py",
   "mimetype": "text/x-python",
   "name": "python",
   "nbconvert_exporter": "python",
   "pygments_lexer": "ipython3",
   "version": "3.6.1"
  }
 },
 "nbformat": 4,
 "nbformat_minor": 2
}
