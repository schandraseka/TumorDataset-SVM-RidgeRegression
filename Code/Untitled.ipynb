{
 "cells": [
  {
   "cell_type": "code",
   "execution_count": 110,
   "metadata": {},
   "outputs": [
    {
     "name": "stdout",
     "output_type": "stream",
     "text": [
      "Reading synthetic data ...\n",
      "Train= (200,)\n",
      "Test= (200,)\n"
     ]
    }
   ],
   "source": [
    "# Import python modules\n",
    "import numpy as np\n",
    "import kaggle\n",
    "import math\n",
    "from sklearn.metrics import accuracy_score\n",
    "from sklearn.linear_model.ridge import Ridge\n",
    "\n",
    "\n",
    "# Read in train and test synthetic data\n",
    "def read_synthetic_data():\n",
    "\tprint('Reading synthetic data ...')\n",
    "\ttrain_x = np.loadtxt('../../Data/Synthetic/data_train.txt', delimiter = ',', dtype=float)\n",
    "\ttrain_y = np.loadtxt('../../Data/Synthetic/label_train.txt', delimiter = ',', dtype=float)\n",
    "\ttest_x = np.loadtxt('../../Data/Synthetic/data_test.txt', delimiter = ',', dtype=float)\n",
    "\ttest_y = np.loadtxt('../../Data/Synthetic/label_test.txt', delimiter = ',', dtype=float)\n",
    "\n",
    "\treturn (train_x, train_y, test_x, test_y)\n",
    "\n",
    "\n",
    "# Compute MSE\n",
    "def compute_MSE(y, y_hat):\n",
    "\t# mean squared error\n",
    "\treturn np.mean(np.power(y - y_hat, 2))\n",
    "\n",
    "train_x, train_y, test_x, test_y = read_synthetic_data()\n",
    "print('Train=', train_x.shape)\n",
    "print('Test=', test_x.shape)\n"
   ]
  },
  {
   "cell_type": "code",
   "execution_count": null,
   "metadata": {
    "collapsed": true
   },
   "outputs": [],
   "source": []
  },
  {
   "cell_type": "code",
   "execution_count": 111,
   "metadata": {},
   "outputs": [
    {
     "name": "stdout",
     "output_type": "stream",
     "text": [
      "0.582340444821\n",
      "0.536822781304\n",
      "0.441506852453\n",
      "0.102524426496\n",
      "0.165771469732\n",
      "0.118826043104\n",
      "0.0973803176496\n"
     ]
    }
   ],
   "source": [
    "#Apply polynomial basis expansion\n",
    "def my_kernel(X,Y,p):\n",
    "    K = np.zeros((X.shape[0],Y.shape[0]))\n",
    "    for i,x in enumerate(X):\n",
    "        for j,y in enumerate(Y):\n",
    "            K[i,j] = (1+x*y)**p\n",
    "    return K\n",
    "    \n",
    "krrs_polypredictions = []\n",
    "for deg in [1,2,4,6]:\n",
    "    #print(my_kernel(train_x.T,train_x,i))\n",
    "    alpha = np.linalg.inv(my_kernel(train_x.T,train_x,deg) + (0.1*np.eye(train_x.shape[0]))).dot(train_y.reshape(-1,1))\n",
    "    #print(alpha)\n",
    "    pred_y = np.zeros((test_x.shape[0],1))\n",
    "    for i in range(test_x.shape[0]):\n",
    "        psum = 0\n",
    "        for j in  range(train_x.shape[0]):\n",
    "            psum += alpha[j]*(1 + np.dot(test_x[i].T, train_x[j]))**deg\n",
    "        pred_y[i][0] = psum\n",
    "    krrs_polypredictions.append(pred_y)\n",
    "    \n",
    "#print(krrs_polypredictions)\n",
    "\n",
    "for lst in krrs_polypredictions:\n",
    "    print(compute_MSE(np.array(lst).reshape(200,1), test_y.reshape(200,1)))\n",
    "\n",
    "krrs_trigpredictions = []\n",
    "for deg in [3,6,10]:\n",
    "    alpha = np.linalg.inv(trig_kernel(train_x.T,train_x,deg) + (0.1*np.eye(train_x.shape[0]))).dot(train_y)\n",
    "    pred_y = np.zeros((test_x.shape[0],1))\n",
    "    #print(alpha)\n",
    "    for i in range(test_x.shape[0]):\n",
    "        psum = 0\n",
    "        for j in  range(train_x.shape[0]):\n",
    "            tsum = 0\n",
    "            d = 0.5\n",
    "            for de in range(deg):\n",
    "                tsum += np.dot(np.sin(de*d*test_x[i]),np.sin(de*d*train_x[j])) + np.dot(np.cos(de*d*test_x[i]),np.cos(de*d*train_x[j]))\n",
    "            psum += alpha[j]*(1 + tsum)\n",
    "        pred_y[i][0] = psum\n",
    "    krrs_trigpredictions.append(pred_y)\n",
    "\n",
    "#print(krrs_trigpredictions)\n",
    "\n",
    "for lst in krrs_trigpredictions:\n",
    "    print(compute_MSE(np.array(lst).reshape(200,1), test_y.reshape(200,1)))\n"
   ]
  },
  {
   "cell_type": "raw",
   "metadata": {},
   "source": []
  },
  {
   "cell_type": "code",
   "execution_count": 114,
   "metadata": {
    "scrolled": true
   },
   "outputs": [
    {
     "name": "stdout",
     "output_type": "stream",
     "text": [
      "0.582447550275\n",
      "0.536850611277\n",
      "0.441917855053\n",
      "0.126113336564\n",
      "0.166136360724\n",
      "0.130578295205\n",
      "0.097819516656\n"
     ]
    }
   ],
   "source": [
    "berr_polypredictions = []\n",
    "for deg in [1,2,4,6]:\n",
    "    train_x_new = []\n",
    "    for i in range(train_x.shape[0]):\n",
    "        train_x_new.append([train_x[i]**j for j in range(deg+1)])\n",
    "    test_x_new = []\n",
    "    for i in range(test_x.shape[0]):\n",
    "        test_x_new.append([test_x[i]**j for j in range(deg+1)])\n",
    "    clf = Ridge()\n",
    "    clf.fit(train_x_new, train_y)\n",
    "    pred_y = clf.predict(test_x_new)\n",
    "    #print(pred_y)\n",
    "    berr_polypredictions.append(pred_y)\n",
    "\n",
    "#print(berr_polypredictions)\n",
    "for lst in berr_polypredictions:\n",
    "    print(compute_MSE(np.array(lst).reshape(200,1), test_y.reshape(200,1)))\n",
    "\n",
    "def trig_expansion(train_x, degree):\n",
    "    res = [1]\n",
    "    d = 0.5\n",
    "    for de in range(degree):\n",
    "        res.append(np.sin(de*d*train_x))\n",
    "        res.append(np.cos(de*d*train_x))\n",
    "    return res\n",
    "\n",
    "berr_trigpredictions = []\n",
    "for degree in [3, 5, 10]:\n",
    "    train_x_new = []\n",
    "    for i in range(train_x.shape[0]):\n",
    "        train_x_new.append(trig_expansion(train_x[i],degree))\n",
    "    test_x_new = []\n",
    "    for i in range(test_x.shape[0]):\n",
    "        test_x_new.append(trig_expansion(test_x[i],degree))\n",
    "\n",
    "    clf = Ridge()\n",
    "    clf.fit(train_x_new, train_y)\n",
    "    pred_y = clf.predict(test_x_new)\n",
    "    berr_trigpredictions.append(pred_y)\n",
    "\n",
    "#print(berr_trigpredictions)  \n",
    "for lst in berr_trigpredictions:\n",
    "    print(compute_MSE(np.array(lst).reshape(200,1), test_y.reshape(200,1)))"
   ]
  },
  {
   "cell_type": "code",
   "execution_count": 150,
   "metadata": {},
   "outputs": [],
   "source": [
    "import matplotlib.pyplot as plt\n",
    "plt.rc('font',size=7)\n",
    "f, array = plt.subplots(4, 2, figsize=(10,8))\n",
    "array[0,0].scatter(test_x, test_y, c='b', marker = '*', s=8)\n",
    "array[0,0].scatter(test_x, krrs_polypredictions[1], c='r', marker = 'o', s=7)\n",
    "array[0,0].set_xlabel(\"Test X\")\n",
    "array[0,0].set_ylabel(\"True/Predicted Y\")\n",
    "array[0,0].set_title(\"KRRS, Polynomial, lambda = 0.1, degree = 2\")\n",
    "\n",
    "array[0,1].scatter(test_x, test_y, c='b', marker = '*', s=7)\n",
    "array[0,1].scatter(test_x, berr_polypredictions[1], c='r', marker = 'o', s=7)\n",
    "array[0,1].set_xlabel(\"Test X\")\n",
    "array[0,1].set_ylabel(\"True/Predicted Y\") \n",
    "array[0,1].set_title(\"BERR, Polynomial, lambda = 0.1, degree = 2\")\n",
    "\n",
    "array[1,0].scatter(test_x, test_y, c='b', marker = '*', s=7)\n",
    "array[1,0].scatter(test_x, krrs_polypredictions[3], c='r', marker = 'o', s=7)\n",
    "array[1,0].set_xlabel(\"Test X\")\n",
    "array[1,0].set_ylabel(\"True/Predicted Y\")\n",
    "array[1,0].set_title(\"KRRS, Polynomial, lambda = 0.1, degree = 6\")\n",
    "\n",
    "array[1,1].scatter(test_x, test_y, c='b', marker = '*', s=7)\n",
    "array[1,1].scatter(test_x, berr_polypredictions[3], c='r', marker = 'o', s=7)\n",
    "array[1,1].set_xlabel(\"Test X\")\n",
    "array[1,1].set_ylabel(\"True/Predicted Y\")\n",
    "array[1,1].set_title(\"BERR, Polynomial, lambda = 0.1, degree = 6\")\n",
    "\n",
    "array[2,0].scatter(test_x, test_y, c='b', marker = '*', s=7)\n",
    "array[2,0].scatter(test_x, krrs_trigpredictions[1], c='r', marker = 'o', s=7)\n",
    "array[2,0].set_xlabel(\"Test X\")\n",
    "array[2,0].set_ylabel(\"True/Predicted Y\")\n",
    "array[2,0].set_title(\"KRRS, Trignometric, lambda = 0.1, degree = 5\")\n",
    "\n",
    "array[2,1].scatter(test_x, test_y, c='b', marker = '*', s=7)\n",
    "array[2,1].scatter(test_x, berr_trigpredictions[1], c='r', marker = 'o', s=7)\n",
    "array[2,1].set_xlabel(\"Test X\")\n",
    "array[2,1].set_ylabel(\"True/Predicted Y\")\n",
    "array[2,1].set_title(\"BERR, Trignometric, lambda = 0.1, degree = 5\")\n",
    "\n",
    "array[3,0].scatter(test_x, test_y, c='b', marker = '*', s=7)\n",
    "array[3,0].scatter(test_x, krrs_trigpredictions[2], c='r', marker = 'o', s=7)\n",
    "array[3,0].set_xlabel(\"Test X\")\n",
    "array[3,0].set_ylabel(\"True/Predicted Y\")\n",
    "array[3,0].set_title(\"KRRS, Trignometric, lambda = 0.1, degree = 10\")\n",
    "\n",
    "array[3,1].scatter(test_x, test_y, c='b', marker = '*', s=7)\n",
    "array[3,1].scatter(test_x, berr_trigpredictions[2], c='r', marker = 'o', s=7)\n",
    "array[3,1].set_xlabel(\"Test X\")\n",
    "array[3,1].set_ylabel(\"True/Predicted Y\")\n",
    "array[3,1].set_title(\"BERR, Trignometric, lambda = 0.1, degree = 10\")\n",
    "\n",
    "plt.tight_layout()\n",
    "\n",
    "plt.savefig('../Figures/Plot.png')\n",
    "plt.close()"
   ]
  },
  {
   "cell_type": "code",
   "execution_count": null,
   "metadata": {},
   "outputs": [],
   "source": []
  },
  {
   "cell_type": "code",
   "execution_count": null,
   "metadata": {
    "collapsed": true
   },
   "outputs": [],
   "source": []
  }
 ],
 "metadata": {
  "kernelspec": {
   "display_name": "Python 3",
   "language": "python",
   "name": "python3"
  },
  "language_info": {
   "codemirror_mode": {
    "name": "ipython",
    "version": 3
   },
   "file_extension": ".py",
   "mimetype": "text/x-python",
   "name": "python",
   "nbconvert_exporter": "python",
   "pygments_lexer": "ipython3",
   "version": "3.6.1"
  }
 },
 "nbformat": 4,
 "nbformat_minor": 2
}
